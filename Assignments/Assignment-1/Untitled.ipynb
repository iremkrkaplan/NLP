{
 "cells": [
  {
   "cell_type": "code",
   "execution_count": 1,
   "id": "47dfa58d-2a73-403d-8b75-0188cf2b37fb",
   "metadata": {},
   "outputs": [
    {
     "name": "stdout",
     "output_type": "stream",
     "text": [
      "NLP stands for Natural Language Processing\n"
     ]
    }
   ],
   "source": [
    "abbr = 'NLP'\n",
    "full_text = 'Natural Language Processing'\n",
    "print(f\"{abbr} stands for {full_text}\")"
   ]
  },
  {
   "cell_type": "code",
   "execution_count": 4,
   "id": "cd7b876d-f1ab-4c73-9006-62763cd1bdb9",
   "metadata": {},
   "outputs": [],
   "source": [
    "with open('contacts.txt', 'w') as f:\n",
    "    f.write('First_Name Last_Name, Title, Extension, Email\\n')"
   ]
  },
  {
   "cell_type": "code",
   "execution_count": 5,
   "id": "dafb06e6-ae91-4e82-9bcd-0470c9af2a88",
   "metadata": {},
   "outputs": [
    {
     "name": "stdout",
     "output_type": "stream",
     "text": [
      "First_Name Last_Name, Title, Extension, Email\n",
      "\n"
     ]
    }
   ],
   "source": [
    "with open('contacts.txt', 'r') as f:\n",
    "    fields = f.read()\n",
    "print(fields)"
   ]
  },
  {
   "cell_type": "code",
   "execution_count": 7,
   "id": "dd16ba47-69be-4a18-ad8d-11b47fc29882",
   "metadata": {},
   "outputs": [
    {
     "name": "stdout",
     "output_type": "stream",
     "text": [
      "AUTHORS:  \n",
      "Amy Baker, Finance Chair, x345, abaker@ourcompany.com  \n",
      "Chris Donaldson, Accounting Dir., x621, cdonaldson@ourcompany.com  \n",
      "Erin Freeman, Sr. VP, x879, efreeman@ourcompany.com  \n"
     ]
    }
   ],
   "source": [
    "import PyPDF2\n",
    "\n",
    "with open('Business_Proposal.pdf', 'rb') as f:\n",
    "    reader = PyPDF2.PdfReader(f)\n",
    "    page_two_text = reader.pages[1].extract_text()\n",
    "print(page_two_text)"
   ]
  },
  {
   "cell_type": "code",
   "execution_count": 8,
   "id": "0602a25e-019c-4b71-8732-660b50783665",
   "metadata": {},
   "outputs": [],
   "source": [
    "with open('contacts.txt', 'a') as f:\n",
    "    f.write(page_two_text.replace('AUTHORS:', ''))"
   ]
  },
  {
   "cell_type": "code",
   "execution_count": 9,
   "id": "6f97d5e1-12c0-4bee-8e7b-3c57ce6e1637",
   "metadata": {},
   "outputs": [
    {
     "name": "stdout",
     "output_type": "stream",
     "text": [
      "['abaker@ourcompany.com', 'cdonaldson@ourcompany.com', 'efreeman@ourcompany.com']\n"
     ]
    }
   ],
   "source": [
    "import re\n",
    "\n",
    "emails = re.findall(r'[\\w\\.-]+@[\\w\\.-]+', page_two_text)\n",
    "print(emails)"
   ]
  },
  {
   "cell_type": "code",
   "execution_count": null,
   "id": "2b2ae750-b46c-4eff-8e84-e8cfad1d25f6",
   "metadata": {},
   "outputs": [],
   "source": []
  }
 ],
 "metadata": {
  "kernelspec": {
   "display_name": "Python 3 (ipykernel)",
   "language": "python",
   "name": "python3"
  },
  "language_info": {
   "codemirror_mode": {
    "name": "ipython",
    "version": 3
   },
   "file_extension": ".py",
   "mimetype": "text/x-python",
   "name": "python",
   "nbconvert_exporter": "python",
   "pygments_lexer": "ipython3",
   "version": "3.13.5"
  }
 },
 "nbformat": 4,
 "nbformat_minor": 5
}
